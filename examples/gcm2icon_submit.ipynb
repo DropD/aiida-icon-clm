{
 "cells": [
  {
   "cell_type": "code",
   "execution_count": 1,
   "id": "612de298-d104-41fe-a19b-03453d339edf",
   "metadata": {
    "editable": true,
    "slideshow": {
     "slide_type": ""
    },
    "tags": []
   },
   "outputs": [
    {
     "data": {
      "application/json": {
       "current_state": "Loaded AiiDA DB environment - profile name: c2sm."
      },
      "text/html": [
       "<p>Loaded AiiDA DB environment - profile name: c2sm.</p>"
      ],
      "text/latex": [
       "Loaded AiiDA DB environment - profile name: c2sm.\n"
      ],
      "text/plain": [
       "Loaded AiiDA DB environment - profile name: c2sm.\n"
      ]
     },
     "execution_count": 1,
     "metadata": {},
     "output_type": "execute_result"
    }
   ],
   "source": [
    "%load_ext aiida\n",
    "%aiida"
   ]
  },
  {
   "cell_type": "code",
   "execution_count": 2,
   "id": "f12658bb-8551-4f79-9a95-310d372abab9",
   "metadata": {},
   "outputs": [],
   "source": [
    "import io\n",
    "import pendulum\n",
    "import pathlib\n",
    "import f90nml\n",
    "import tempfile\n",
    "from aiida import orm, engine\n",
    "from aiida_c2sm import spice"
   ]
  },
  {
   "cell_type": "code",
   "execution_count": 3,
   "id": "3791eeda-53ce-46e9-bb29-28f80049cfea",
   "metadata": {},
   "outputs": [],
   "source": [
    "def get_ecraddir() -> orm.RemoteData:\n",
    "    try:\n",
    "        params = orm.load_node(label=\"spice-ecraddir\")\n",
    "        return params\n",
    "    except common.NotExistent:\n",
    "        return orm.RemoteData(\n",
    "            label=\"spice-ecraddir\",\n",
    "            computer=orm.load_computer(\"Daint\"),\n",
    "            remote_path=\"/scratch/snx3000/mjaehn/sandbox_workflow/spice/icon-nwp-gpu/externals/ecrad/data\",\n",
    "        ).store()"
   ]
  },
  {
   "cell_type": "code",
   "execution_count": 4,
   "id": "e9ca01ac-5ccf-4d5b-b4b6-3fbf44dde07e",
   "metadata": {},
   "outputs": [],
   "source": [
    "builder = spice.gcm2icon.workflow.Gcm2Icon.get_builder()"
   ]
  },
  {
   "cell_type": "code",
   "execution_count": 5,
   "id": "ccb21a91-6d38-427e-ad3d-8d3e909bfc14",
   "metadata": {},
   "outputs": [],
   "source": [
    "src_dir = pathlib.Path(\"/scratch/snx3000/mjaehn/sandbox_workflow/spice/src\")\n",
    "\n",
    "builder.boundary_data = spice.data.get_inidata()\n",
    "builder.ecraddir = get_ecraddir()\n",
    "builder.gcm_data = spice.data.get_gcm_data()\n",
    "builder.ini_basedir = spice.data.get_inibasedir()\n",
    "builder.inidata = spice.data.get_inidata()\n",
    "\n",
    "builder.computer_options = {\n",
    "    \"account\": \"csstaff\",\n",
    "    \"queue_name\": \"normal\",\n",
    "    \"custom_scheduler_commands\": \"#SBATCH -C gpu\",\n",
    "    \"max_memory_kb\": int(64e6),\n",
    "    \"resources\": {\n",
    "        \"num_machines\": 1,\n",
    "        \"num_mpiprocs_per_machine\": 1\n",
    "    },\n",
    "}\n",
    "\n",
    "builder.prep.code = orm.load_code(\"spice-prep-installed\")\n",
    "builder.prep.computer_options = {\n",
    "    \"max_wallclock_seconds\": 1800,\n",
    "}\n",
    "\n",
    "builder.conv.code = orm.load_code(\"spice-conv-installed\")\n",
    "builder.conv.computer_options = {\n",
    "    \"max_wallclock_seconds\": 1800,\n",
    "}\n",
    "\n",
    "builder.icon.code = orm.load_code(\"spice-icon\")\n",
    "builder.icon.computer_options = {\n",
    "    \"max_wallclock_seconds\": 3600,\n",
    "    \"resources\": {\n",
    "        \"num_machines\": 10,\n",
    "        \"num_mpiprocs_per_machine\": 1,\n",
    "        \"num_cores_per_mpiproc\": 2,\n",
    "    },\n",
    "    \"withmpi\": True,\n",
    "    \"mpirun_extra_params\": [\n",
    "        \"--ntasks-per-node\",\n",
    "        \"1\",\n",
    "        \"--hint=nomultithread\",\n",
    "        \"--cpus-per-task\",\n",
    "        \"1\",\n",
    "    ],\n",
    "}\n",
    "\n",
    "builder.parameters = orm.JsonableData(\n",
    "    spice.params.SpiceParams(\n",
    "        start_date=pendulum.datetime(year=1979, month=1, day=1, tz=\"utc\"),\n",
    "        stop_date=pendulum.datetime(year=1979, month=3, day=1, tz=\"utc\"),\n",
    "        utils_bindir=src_dir / \"utils\" / \"bin\",\n",
    "        cfu_bindir=src_dir / \"cfu\" / \"bin\",\n",
    "        lam_grid_relpath=\"europe044/europe044_DOM01.nc\",\n",
    "        parent_grid_relpath=\"europe044/europe044_DOM01.parent.nc\",\n",
    "        extpar_relpath=\"europe044/external_parameter_icon_europe044_DOM01_tiles.nc\",\n",
    "        ghg_file_relpath=\"greenhouse_gases/bc_greenhouse_rcp45_1765-2500.nc\"\n",
    "    )\n",
    ")"
   ]
  },
  {
   "cell_type": "code",
   "execution_count": 6,
   "id": "4a596fda-79bc-440b-827e-905ae923282a",
   "metadata": {},
   "outputs": [
    {
     "name": "stderr",
     "output_type": "stream",
     "text": [
      "08/22/2023 03:08:12 PM <38583> aiida.orm.nodes.process.workflow.workchain.WorkChainNode: [REPORT] [3634|Gcm2Icon|check_inputs]: Checking inputs.\n",
      "08/22/2023 03:08:12 PM <38583> aiida.orm.nodes.process.workflow.workchain.WorkChainNode: [REPORT] [3634|Gcm2Icon|init_iterations]: Initializing iteration variables.\n",
      "08/22/2023 03:08:12 PM <38583> aiida.orm.nodes.process.workflow.workchain.WorkChainNode: [REPORT] [3634|Gcm2Icon|prep]: Starting Preparation run for date 1979-01-01 00:00:00.\n",
      "08/22/2023 03:21:02 PM <38583> aiida.orm.nodes.process.workflow.workchain.WorkChainNode: [REPORT] [3634|Gcm2Icon|conv]: Starting Conv2Icon run for date 1979-01-01 00:00:00.\n",
      "08/22/2023 03:26:04 PM <38583> aiida.orm.nodes.process.workflow.workchain.WorkChainNode: [REPORT] [3634|Gcm2Icon|wait_for_previous_icon]: Making the next step wait for the previous Icon run.\n",
      "08/22/2023 03:26:04 PM <38583> aiida.orm.nodes.process.workflow.workchain.WorkChainNode: [REPORT] [3634|Gcm2Icon|icon]: Starting Icon run for date 1979-01-01 00:00:00.\n",
      "08/22/2023 03:26:04 PM <38583> aiida.orm.nodes.process.workflow.workchain.WorkChainNode: [REPORT] [3634|Gcm2Icon|incr_iteration]: Updating iteration variables.\n",
      "08/22/2023 03:26:04 PM <38583> aiida.orm.nodes.process.workflow.workchain.WorkChainNode: [REPORT] [3634|Gcm2Icon|incr_iteration]: Current date: 1979-01-01 00:00:00 -> 1979-02-01 00:00:00\n",
      "08/22/2023 03:26:04 PM <38583> aiida.orm.nodes.process.workflow.workchain.WorkChainNode: [REPORT] [3634|Gcm2Icon|prep]: Starting Preparation run for date 1979-02-01 00:00:00.\n",
      "08/22/2023 03:41:50 PM <38583> aiida.orm.nodes.process.workflow.workchain.WorkChainNode: [REPORT] [3634|Gcm2Icon|conv]: Starting Conv2Icon run for date 1979-02-01 00:00:00.\n",
      "08/22/2023 03:46:08 PM <38583> aiida.orm.nodes.process.workflow.workchain.WorkChainNode: [REPORT] [3634|Gcm2Icon|wait_for_previous_icon]: Making the next step wait for the previous Icon run.\n",
      "08/22/2023 03:46:08 PM <38583> aiida.orm.nodes.process.workflow.workchain.WorkChainNode: [REPORT] [3634|Gcm2Icon|icon]: Starting Icon run for date 1979-02-01 00:00:00.\n",
      "08/22/2023 03:46:08 PM <38583> aiida.orm.nodes.process.workflow.workchain.WorkChainNode: [REPORT] [3634|Gcm2Icon|incr_iteration]: Updating iteration variables.\n",
      "08/22/2023 03:46:08 PM <38583> aiida.orm.nodes.process.workflow.workchain.WorkChainNode: [REPORT] [3634|Gcm2Icon|incr_iteration]: Current date: 1979-02-01 00:00:00 -> 1979-03-01 00:00:00\n",
      "08/22/2023 03:46:08 PM <38583> aiida.orm.nodes.process.workflow.workchain.WorkChainNode: [REPORT] [3634|Gcm2Icon|should_run]: Stop date is reached, stopping.\n",
      "08/22/2023 03:46:08 PM <38583> aiida.orm.nodes.process.workflow.workchain.WorkChainNode: [REPORT] [3634|Gcm2Icon|wait_for_previous_icon]: Making the next step wait for the previous Icon run.\n",
      "08/22/2023 03:50:32 PM <38583> aiida.orm.nodes.process.calculation.calcjob.CalcJobNode: [WARNING] output parser returned exit code<300>: ICON did not create a restart file or directory!\n",
      "08/22/2023 03:50:33 PM <38583> aiida.orm.nodes.process.workflow.workchain.WorkChainNode: [REPORT] [3634|Gcm2Icon|finalize]: Setting outputs from last Icon run (for date 1979-02-01 00:00:00).\n"
     ]
    }
   ],
   "source": [
    "result = engine.run(builder)"
   ]
  },
  {
   "cell_type": "code",
   "execution_count": 7,
   "id": "b170e678-ac20-4aaf-8552-b2317f414dd7",
   "metadata": {},
   "outputs": [
    {
     "data": {
      "text/plain": [
       "{'remote_folder': <RemoteData: uuid: f74af39c-93c9-4604-9b1b-1f70903bda37 (pk: 3691)>,\n",
       " 'retrieved': <FolderData: uuid: 5d1dbc7a-5f1b-42af-8131-b69d8d04b77f (pk: 3692)>}"
      ]
     },
     "execution_count": 7,
     "metadata": {},
     "output_type": "execute_result"
    }
   ],
   "source": [
    "result"
   ]
  },
  {
   "cell_type": "code",
   "execution_count": 8,
   "id": "7bb8ef45-e73b-4c98-8e32-8a388bc382dd",
   "metadata": {},
   "outputs": [
    {
     "data": {
      "text/plain": [
       "3690"
      ]
     },
     "execution_count": 8,
     "metadata": {},
     "output_type": "execute_result"
    }
   ],
   "source": [
    "result[\"remote_folder\"].creator.pk"
   ]
  },
  {
   "cell_type": "code",
   "execution_count": null,
   "id": "76b98930-9075-4aff-930f-f7af7cf6d82e",
   "metadata": {},
   "outputs": [],
   "source": []
  }
 ],
 "metadata": {
  "kernelspec": {
   "display_name": "Python 3 (ipykernel)",
   "language": "python",
   "name": "python3"
  },
  "language_info": {
   "codemirror_mode": {
    "name": "ipython",
    "version": 3
   },
   "file_extension": ".py",
   "mimetype": "text/x-python",
   "name": "python",
   "nbconvert_exporter": "python",
   "pygments_lexer": "ipython3",
   "version": "3.10.8"
  }
 },
 "nbformat": 4,
 "nbformat_minor": 5
}
