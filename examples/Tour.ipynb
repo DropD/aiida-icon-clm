{
 "cells": [
  {
   "cell_type": "markdown",
   "id": "bd9a27ee-5ef4-4563-8c52-b3ba758e7b1e",
   "metadata": {},
   "source": [
    "# Quick Tour"
   ]
  },
  {
   "cell_type": "markdown",
   "id": "76d4afbd-7427-4e30-b959-49c465711b10",
   "metadata": {},
   "source": [
    "## Preparations\n",
    "\n",
    "The following cell loads the AiiDA Jupyter extensions. This enables interacting with the database and daemon, displaying node graphs and more. If you want to run this notebook yourself, you must have AiiDA and the `aiida-c2sm` plugin installed (`pip install [-e] .` from the project root), computer and codes set up and run at least one `GCM2Icon` workflow successfully. You will need to change the PK vari"
   ]
  },
  {
   "cell_type": "code",
   "execution_count": 65,
   "id": "b935359a-bc6a-4861-88f6-a3d9ee27b924",
   "metadata": {
    "editable": true,
    "slideshow": {
     "slide_type": ""
    },
    "tags": []
   },
   "outputs": [
    {
     "name": "stdout",
     "output_type": "stream",
     "text": [
      "The aiida extension is already loaded. To reload it, use:\n",
      "  %reload_ext aiida\n"
     ]
    },
    {
     "data": {
      "application/json": {
       "current_state": "Loaded AiiDA DB environment - profile name: c2sm."
      },
      "text/html": [
       "<p>Loaded AiiDA DB environment - profile name: c2sm.</p>"
      ],
      "text/latex": [
       "Loaded AiiDA DB environment - profile name: c2sm.\n"
      ],
      "text/plain": [
       "Loaded AiiDA DB environment - profile name: c2sm.\n"
      ]
     },
     "execution_count": 65,
     "metadata": {},
     "output_type": "execute_result"
    }
   ],
   "source": [
    "%load_ext aiida\n",
    "%aiida"
   ]
  },
  {
   "cell_type": "markdown",
   "id": "7818494f-25e6-4fd6-b011-2a075aa21a48",
   "metadata": {},
   "source": [
    "Next we import the modules we need from AiiDA, our plugin and some pretty printing utilities."
   ]
  },
  {
   "cell_type": "code",
   "execution_count": 66,
   "id": "fa77171c-cfa0-4e8c-9611-5503e597f491",
   "metadata": {
    "editable": true,
    "slideshow": {
     "slide_type": ""
    },
    "tags": []
   },
   "outputs": [],
   "source": [
    "from aiida import orm, plugins\n",
    "from aiida.engine import processes\n",
    "import aiida_c2sm\n",
    "import tabulate"
   ]
  },
  {
   "cell_type": "markdown",
   "id": "18fbb991-74fa-4f85-901a-3187634d516a",
   "metadata": {},
   "source": [
    "## Interacting with the database programatically\n",
    "\n",
    "the `aiida.orm` module contains everything needed to talk to the database. One example is the powerful `QueryBuilder`, which allows to build very complex graph queries. Here we only use it in it's simplest form to display the successfully finished runs."
   ]
  },
  {
   "cell_type": "code",
   "execution_count": 113,
   "id": "ed8b27ee-f080-4561-a2af-a45d520529ef",
   "metadata": {
    "editable": true,
    "slideshow": {
     "slide_type": ""
    },
    "tags": []
   },
   "outputs": [
    {
     "name": "stderr",
     "output_type": "stream",
     "text": [
      "/Users/ricoh/.virtualenvs/aiida-c2sm/lib/python3.10/site-packages/aiida/orm/querybuilder.py:1385: AiidaEntryPointWarning: Process type 'aiida_c2sm.spice.gcm2icon.workflow.Gcm2Icon' does not correspond to a registered entry. This risks queries to fail once the location of the process class changes. Add an entry point for 'aiida_c2sm.spice.gcm2icon.workflow.Gcm2Icon' to remove this warning.\n",
      "  warnings.warn(\n"
     ]
    },
    {
     "name": "stdout",
     "output_type": "stream",
     "text": [
      "  PK  experiment ID\n",
      "----  -----------------\n",
      "3251  poetic-lorikeet\n",
      "3188  remarkable-raptor\n",
      "3355  maroon-porcupine\n",
      "3420  impetuous-manatee\n",
      "3634  hot-clam\n"
     ]
    }
   ],
   "source": [
    "q = orm.QueryBuilder()\n",
    "q.append(aiida_c2sm.spice.gcm2icon.workflow.Gcm2Icon)\n",
    "q.all()\n",
    "successful_runs = [run[0] for run in q.all() if run[0].process_state is processes.ProcessState.FINISHED]\n",
    "\n",
    "print(tabulate.tabulate([(run.pk, run.inputs.experiment_id.value) for run in successful_runs], headers=[\"PK\", \"experiment ID\"]))"
   ]
  },
  {
   "cell_type": "markdown",
   "id": "828ff13e-94e5-4cff-a097-f751dd4eba48",
   "metadata": {},
   "source": [
    "Next, we pick one of the runs and look at all the AiiDA-processes it started. It is stored in the database as a `WorkChainNode` (`WorkChain` being the class in AiiDA to represent a workflow). Some of these might be `CalcJobs` which were submitted to the cluster, some might be sub-`WorkChain`s. This is an example of things that are stored with the run."
   ]
  },
  {
   "cell_type": "code",
   "execution_count": 112,
   "id": "0847ef6b-eba1-4645-81c3-c738456ca150",
   "metadata": {},
   "outputs": [
    {
     "name": "stdout",
     "output_type": "stream",
     "text": [
      "  PK  Stage    Experiment start time      Process creation time             Process modification time         Process state          Database node type    Run folder on the cluster\n",
      "----  -------  -------------------------  --------------------------------  --------------------------------  ---------------------  --------------------  -------------------------------------------------------------------\n",
      "3636  prep     1979-01-01T00:00:00+00:00  2023-08-22 15:08:12.293136+02:00  2023-08-22 15:21:02.558395+02:00  ProcessState.FINISHED  CalcJobNode           /scratch/snx3000/ricoh/aiida/78/b1/80ce-5c16-49b2-b88b-1c990602dc18\n",
      "3641  conv     1979-01-01T00:00:00+00:00  2023-08-22 15:21:02.649733+02:00  2023-08-22 15:26:04.341467+02:00  ProcessState.FINISHED  CalcJobNode           /scratch/snx3000/ricoh/aiida/ea/59/7ff4-1302-423d-8916-8756f189d65a\n",
      "3652  icon     1979-01-01T00:00:00+00:00  2023-08-22 15:26:04.589979+02:00  2023-08-22 15:40:24.409404+02:00  ProcessState.FINISHED  WorkChainNode         /scratch/snx3000/ricoh/aiida/4a/f4/a59b-2d42-447b-ae39-df7916245056\n",
      "3654  prep     1979-02-01T00:00:00+00:00  2023-08-22 15:26:05.002287+02:00  2023-08-22 15:41:49.940136+02:00  ProcessState.FINISHED  CalcJobNode           /scratch/snx3000/ricoh/aiida/5f/2d/0785-70f5-4e47-9bba-c70ccb790a28\n",
      "3671  conv     1979-02-01T00:00:00+00:00  2023-08-22 15:41:50.033045+02:00  2023-08-22 15:46:08.050440+02:00  ProcessState.FINISHED  CalcJobNode           /scratch/snx3000/ricoh/aiida/cd/39/3a61-5517-42ec-bd6d-6d539ddf76ee\n",
      "3682  icon     1979-02-01T00:00:00+00:00  2023-08-22 15:46:08.301397+02:00  2023-08-22 15:50:33.061117+02:00  ProcessState.FINISHED  WorkChainNode         /scratch/snx3000/ricoh/aiida/98/52/7103-fd42-40a1-8db9-6a603f32ac51\n"
     ]
    }
   ],
   "source": [
    "PK = 3634\n",
    "node = orm.load_node(PK)\n",
    "print(\n",
    "    tabulate.tabulate(\n",
    "        [(c.pk, c.label.split(\":\")[0], c.label.split(\"@\")[-1], c.ctime, c.mtime, c.process_state, c.__class__.__name__, c.outputs.remote_folder.get_remote_path()) for c in node.called],\n",
    "        headers=[\"PK\", \"Stage\", \"Experiment start time\", \"Process creation time\", \"Process modification time\", \"Process state\", \"Database node type\", \"Run folder on the cluster\"]\n",
    "    )\n",
    ")"
   ]
  },
  {
   "cell_type": "markdown",
   "id": "6b50b73a-6b2a-4964-8dd5-f7623a51ccd8",
   "metadata": {},
   "source": [
    "## Interacting with the database via CLI\n",
    "\n",
    "We can print out information about nodes via the `verdi` commandline. For example, we can see that the icon run above is a workflow. Let's look at what `verdi` can tell us about it."
   ]
  },
  {
   "cell_type": "code",
   "execution_count": 83,
   "id": "654a946c-623b-4f24-a4f0-b9b9efcfc520",
   "metadata": {
    "scrolled": true
   },
   "outputs": [
    {
     "name": "stdout",
     "output_type": "stream",
     "text": []
    },
    {
     "name": "stdout",
     "output_type": "stream",
     "text": [
      "\u001b[22mProperty     Value\n",
      "-----------  ----------------------------------------------------------------------------\n",
      "type         IconWorkChain\n",
      "state        Finished [11] The process did not register a required output.\n",
      "pk           3468\n",
      "uuid         25acc5e7-d3b5-4231-9758-a573d172af67\n",
      "label        icon:impetuous-manatee@1979-02-01T00:00:00+00:00\n",
      "description  Icon run for experiment impetuous-manatee,  launched from Gcm2Icon workflow.\n",
      "ctime        2023-08-22 11:50:36.959490+02:00\n",
      "mtime        2023-08-22 11:54:10.143648+02:00\n",
      "\n",
      "Inputs                 PK  Type\n",
      "-------------------  ----  -------------\n",
      "boundary_data        1964  RemoteData\n",
      "code                 2514  InstalledCode\n",
      "ecraddir             2084  RemoteData\n",
      "expid                3419  Str\n",
      "extpar_relpath       3465  Str\n",
      "gcm_converted        3460  RemoteData\n",
      "ghg_file_relpath     3466  Str\n",
      "ini_basedir          2079  RemoteData\n",
      "inidata              1964  RemoteData\n",
      "lam_grid_relpath     3463  Str\n",
      "options              3462  Dict\n",
      "parameters           3467  JsonableData\n",
      "parent_grid_relpath  3464  Str\n",
      "restart_file_dir     3458  RemoteData\n",
      "restart_file_name    3457  Str\n",
      "\n",
      "Outputs          PK  Type\n",
      "-------------  ----  ----------\n",
      "remote_folder  3477  RemoteData\n",
      "retrieved      3478  FolderData\n",
      "\n",
      "Caller      PK  Type\n",
      "--------  ----  --------\n",
      "CALL      3420  Gcm2Icon\n",
      "\n",
      "Called      PK  Type\n",
      "--------  ----  ---------------\n",
      "CALL      3470  str_to_namelist\n",
      "CALL      3473  str_to_namelist\n",
      "CALL      3476  Icon\u001b[0m\n"
     ]
    }
   ],
   "source": [
    "!verdi process show 3468"
   ]
  },
  {
   "cell_type": "markdown",
   "id": "73ec5159-f2a8-4d5a-8e86-2e0b27893e61",
   "metadata": {},
   "source": [
    "We can see that it called an Icon `CalcJob` with the PK 3476. Let's look at the scheduler output for that one"
   ]
  },
  {
   "cell_type": "code",
   "execution_count": 84,
   "id": "80eed41f-a133-4e63-9fc3-8add04e3ee79",
   "metadata": {
    "scrolled": true
   },
   "outputs": [
    {
     "name": "stdout",
     "output_type": "stream",
     "text": []
    },
    {
     "name": "stdout",
     "output_type": "stream",
     "text": []
    },
    {
     "name": "stdout",
     "output_type": "stream",
     "text": [
      "\u001b[22m*** 3476: None\n",
      "*** Scheduler output:\n",
      "\n",
      "\n",
      "Batch Job Summary Report (version 21.01.1) for Job \"aiida-3476\" (48486102) on daint\n",
      "\n",
      "Job information (1/2)\n",
      "-----------------------------------------------------------------------------------------------------\n",
      "             Submit            Eligible               Start                 End    Elapsed Time limit\n",
      "------------------- ------------------- ------------------- ------------------- ---------- ----------\n",
      "2023-08-22T11:52:01 2023-08-22T11:52:01 2023-08-22T11:52:37 2023-08-22T11:53:07   00:00:30   01:00:00\n",
      "-----------------------------------------------------------------------------------------------------\n",
      "\n",
      "Job information (2/2)\n",
      "-------------------------------------------------------------\n",
      "    Username      Account    Partition   NNodes        Energy\n",
      "------------ ------------ ------------ -------- -------------\n",
      "       ricoh      csstaff       normal       10     22.773 kJ\n",
      "\n",
      "\n",
      "*** Scheduler errors:\n",
      "Switching to atp/3.14.5.\n",
      "Switching to cray-libsci/20.09.1.\n",
      "Switching to cray-mpich/7.7.18.\n",
      "Switching to craype/2.7.10.\n",
      "Switching to gcc/9.3.0.\n",
      "Switching to modules/3.2.11.4.\n",
      "Switching to perftools-base/21.09.0.\n",
      "Switching to pmi/5.0.17.\n",
      "\n",
      " ICON MPI interface runtime information:\n",
      " mo_mpi::start_mpi Used MPI version: 3.1\n",
      " mo_mpi::start_mpi ICON: Globally run on 10 mpi processes.\n",
      "\n",
      " ICON runs on 10 mpi processes.\n",
      "\n",
      " Repository: git@gitlab.dkrz.de:icon/icon-nwp.git\n",
      " Branch    : (HEAD detached at bf4a96403b)\n",
      " Revision  : bf4a96403b59ad0eed281a87432d2f8dc716b81c\n",
      " Executable: /scratch/snx3000/mjaehn/sandbox_workflow/spice/icon-nwp-gpu/bin/icon at 20230822 115248\n",
      " User      : Rico Haeuselmann, CSCS (ricoh) on nid04672 (Linux 5.3.18-24.46_6.0.29-cray_ari_c x86_64)\n",
      " GRIB-API  : 2.23.0\n",
      " nvfortran 21.3-0 LLVM\n",
      " \n",
      " master_control: start model initialization.\n",
      "\n",
      " ATMO runs on 10 mpi processes.\n",
      "\n",
      " Read restart file meta data ...\n",
      " mo_load_restart:readRestartAttributeFile: read namelists and attributes from restart file\n",
      " mo_dbg_nml/read_dbg_namelist:: read debug namelist dbg_index_nml\n",
      " \n",
      " mo_advection_nml: read_transport_nml: Evaluate the number of names in transport_nml/tracer_names\n",
      " ---      tracer name q1 in position :         1\n",
      " ---      tracer name q2 in position :         2\n",
      " ---      tracer name q3 in position :         3\n",
      " ---      tracer name q4 in position :         4\n",
      " ---      tracer name q5 in position :         5\n",
      " ---      number of named tracers :         5\n",
      " \n",
      " WARNING: Namelist switch l_sst_in is obsolete and will soon be removed!\n",
      " \n",
      " Model time step          : PT06M40.000S\n",
      " \n",
      " \n",
      " Checkpoint interval      : PT0.000S\n",
      " Restart interval         : P28D\n",
      " \n",
      " Read restart file meta data ...\n",
      " IAU time shift: PT00.000S\n",
      " \n",
      " Calendar: Proleptic Gregorian\n",
      " \n",
      " Experiment reference date: 1979-01-01T00:00:00Z\n",
      " Experiment start date    : 1979-01-01T00:00:00Z\n",
      " Experiment stop date     : 1979-02-01T00:00:00.000\n",
      " \n",
      " \n",
      " Start date    : 1979-02-01T00:00:00.000 (restart run)\n",
      " Stop date     : 1979-02-01T00:00:00.000\n",
      " \n",
      " mo_nml_crosscheck::atm_crosscheck: radiation is used with ozone\n",
      " mo_nml_crosscheck::atm_crosscheck: Attention: NWP physics is used, ntracer is automatically reset to   5\n",
      " mo_nml_crosscheck::atm_crosscheck: NetCDF output of floating point variables will be in 32-bit accuracy\n",
      " INFO   : mo_nml_crosscheck::atm_crosscheck: namelist parameter 'activate_sync_timers' has been set to .TRUE., because global 'timers_level' is > 9.\n",
      " set_mpi_work_communicators: num_io_procs_radar has no effect if there are no radar-active domains!\n",
      " set_mpi_work_communicators: --> num_io_procs_radar set to 0\n",
      " set_mpi_work_communicators: Number of procs for test: 0, work: 7, I/O: 1, Restart: 1, Prefetching: 1\n",
      " set_mpi_work_communicators:  0 <=             0  test procs <             0  <=             7  work procs <             7  <=             1  io procs <             8  <=             1  restart procs <             9  <=             1  pref procs <            10  <=             0  radario procs <            10\n",
      " mo_model_domimp_patches:import_pre_patches: start to import patches\n",
      " mo_model_domimp_patches:read_pre_patch: start to init patch_pre\n",
      " Read grid file europe044_DOM01.parent.nc\n",
      " mo_model_domimp_patches:read_pre_patch: grid uuid: 158c1124-9a4d-1c90-a10c-39b62e4f2420\n",
      " mo_model_domimp_patches:read_pre_patch: generating center of patch    0:   78\n",
      " mo_model_domimp_patches:read_pre_patch: generating subcenter of patch    0:  255\n",
      " mo_model_domimp_patches:read_pre_patch: number_of_grid_used of patch    0:    0\n",
      " mo_model_domimp_patches:read_pre_patch: URI of patch    0:\n",
      " mo_model_domimp_patches:read_pre_patch: read_patches finished\n",
      " mo_model_domimp_patches:read_pre_patch: start to init patch_pre\n",
      " Read grid file europe044_DOM01.nc\n",
      " mo_model_domimp_patches:read_pre_patch: grid uuid: 0fd960b5-09da-c2a1-3b03-710a726125a0\n",
      " mo_model_domimp_patches:read_pre_patch: generating center of patch    1:   78\n",
      " mo_model_domimp_patches:read_pre_patch: generating subcenter of patch    1:  255\n",
      " mo_model_domimp_patches:read_pre_patch: number_of_grid_used of patch    1:   99\n",
      " mo_model_domimp_patches:read_pre_patch: URI of patch    1:\n",
      " mo_model_domimp_patches:read_pre_patch: read_patches finished\n",
      " mo_subdivision:decompose_domain: start of domain decomposition\n",
      " mo_subdivision:decompose_domain: Is this taking a long time? Consider adding macro definition HAVE_SLOW_PASSIVE_TARGET_ONESIDED to compile time settings.\n",
      " No splitting of processor grid\n",
      " divide_patch: Using geometric area subdivision (normal)\n",
      " mo_setup_subdivision::prepare_patch: Set new nproma for each MPI work process.\n",
      " # New nproma values:: max/min/avg:    2762   2580   2654.43\n",
      " Secondary nproma (nproma_sub):: 2670\n",
      " Secondary nproma (nproma_sub):: 2670\n",
      " divide_patch: Using geometric area subdivision (normal)\n",
      " Secondary nproma (nproma_sub):: 2670\n",
      " mo_model_domimp_patches:read_remaining_patch: Read gridmap file europe044_DOM01.parent.nc\n",
      " mo_read_netcdf_distributed::distrib_nf_open: europe044_DOM01.parent.nc\n",
      " mo_model_domimp_patches:read_remaining_patch: read finished\n",
      " mo_model_domimp_patches:read_remaining_patch: Read gridmap file europe044_DOM01.nc\n",
      " mo_read_netcdf_distributed::distrib_nf_open: europe044_DOM01.nc\n",
      " mo_model_domimp_patches:read_remaining_patch: read finished\n",
      " mo_model_domimp_patches: set negative edge/vertex refin_ctrl flags for patch (id 0)\n",
      " mo_model_domimp_patches: set negative edge/vertex refin_ctrl flags for local parent patch (id 0)\n",
      " Information on domain decomposition: grid    1\n",
      " Number of compute PEs used for this grid: 7\n",
      " #   lateral boundary cells: max/min/avg     696     66    404.57\n",
      " #         prognostic cells: max/min/avg    2208   1908   2045.71\n",
      " # cells up to halo level 1: max/min/avg    2367   1985   2145.43\n",
      " # cells up to halo level 2: max/min/avg    2533   2066   2249.86\n",
      " #              cells total: max/min/avg    2762   2580   2654.43\n",
      " #   lateral boundary edges: max/min/avg    1133    109    660.29\n",
      " #         prognostic edges: max/min/avg    3301   2849   3044.86\n",
      " # edges up to halo level 1: max/min/avg    3388   2860   3093.86\n",
      " # edges up to halo level 2: max/min/avg    3712   3017   3297.00\n",
      " # edges up to halo level 3: max/min/avg    3877   3099   3401.43\n",
      " #   lateral boundary verts: max/min/avg     354     31    205.29\n",
      " #         prognostic verts: max/min/avg    1107   1021   1046.71\n",
      " # verts up to halo level 1: max/min/avg    1191   1034   1097.57\n",
      " # verts up to halo level 2: max/min/avg    1357   1117   1203.00\n",
      " \n",
      " # send PEs (cells): max/min/avg       4      2      3.14\n",
      " # recv PEs (cells): max/min/avg       4      2      3.14\n",
      " # send PEs (edges): max/min/avg       4      2      3.14\n",
      " # recv PEs (edges): max/min/avg       4      2      3.14\n",
      " # send PEs (verts): max/min/avg       4      2      3.14\n",
      " # recv PEs (verts): max/min/avg       4      2      3.14\n",
      " \n",
      " build_decomposition: Done.\n",
      " mo_atmo_model:construct_atmo_model: asynchronous input prefetching is enabled.\n",
      " mo_icon_output_tools:init_io_processes: asynchronous namelist I/O scheme is enabled.\n",
      " mo_intp_state:construct_2d_interpol_state: start to construct int_state\n",
      " mo_intp_state:construct_2d_interpol_state: constructing int_state for patch 0\n",
      " mo_intp_state:allocate_int_state: memory allocation finished\n",
      " mo_intp_rbf_coeffs:rbf_vec_compute_coeff_cell:\n",
      " mo_intp_rbf_coeffs:rbf_vec_compute_coeff_vertex:\n",
      " mo_intp_rbf_coeffs:rbf_vec_compute_coeff_edge:\n",
      " mo_interpolation:tri_quadrature_pts:\n",
      " mo_intp_coeffs:calculate_tangent_plane_at_edge:\n",
      " mo_intp_coeffs:calculate_dotproduct_at_edge:\n",
      " mo_interpolation:init_tplane_c_sphere:\n",
      " mo_interpolation:lsq_stencil_create:\n",
      " mo_interpolation:lsq_compute_coeff_cell_sphere:\n",
      " mo_interpolation:lsq_stencil_create:\n",
      " mo_interpolation:lsq_compute_coeff_cell_sphere:\n",
      " mo_intp_state:construct_2d_interpol_state: constructing int_state for patch 1\n",
      " mo_intp_state:allocate_int_state: memory allocation finished\n",
      " mo_intp_rbf_coeffs:rbf_vec_compute_coeff_cell:\n",
      " mo_intp_rbf_coeffs:rbf_vec_compute_coeff_vertex:\n",
      " mo_intp_rbf_coeffs:rbf_vec_compute_coeff_edge:\n",
      " mo_interpolation:tri_quadrature_pts:\n",
      " mo_intp_coeffs:calculate_tangent_plane_at_edge:\n",
      " mo_intp_coeffs:calculate_dotproduct_at_edge:\n",
      " mo_interpolation:init_tplane_c_sphere:\n",
      " mo_interpolation:lsq_stencil_create:\n",
      " mo_interpolation:lsq_compute_coeff_cell_sphere:\n",
      " mo_interpolation:lsq_stencil_create:\n",
      " mo_interpolation:lsq_compute_coeff_cell_sphere:\n",
      " mo_intp_state:construct_2d_interpol_state: construction of interpolation state finished\n",
      " mo_intp_state:allocate_int_state: memory allocation finished\n",
      " mo_grf_intp_state:construct_2d_gridref_state: start to construct grf_state\n",
      " mo_grf_intp_state:construct_2d_gridref_state: memory allocation finished\n",
      " mo_grf_intp_state:construct_2d_gridref_state: construction of interpolation state finished\n",
      " setup_phys_patches: Physical domain    1 belongs to logical domain    1\n",
      " mo_dynamics_config:setup_dynamics_config: Set time level indices\n",
      " ldynamics  =  .TRUE.: 2 time levels used for progn. dynamics  variables -> nnew /= nnow\n",
      " ltransport =  .TRUE.: 2 time levels used for progn. transport variables -> nnew_rcf /= nnow_rcf\n",
      " ---      nnow    (01) :         1\n",
      " ---      nnew    (01) :         2\n",
      " ---      nold    (01) :         3\n",
      " ---      nnow_rcf(01) :         1\n",
      " ---      nnew_rcf(01) :         2\n",
      " mo_lnd_nwp_config::configure_lnd_nwp: Number of hydrological active soil layers ibot_w_so is set to:  6\n",
      " Surface tile setup\n",
      " \n",
      " tileName | GRIB2 tileId | tileAtts | ICON tile Ids |  \n",
      " -------- | ------------ | -------- | ------------- |  \n",
      " \n",
      " Land     | 1            | 1,2,     | 1,4,          |  \n",
      " Land     | 2            | 1,2,     | 2,5,          |  \n",
      " Land     | 3            | 1,2,     | 3,6,          |  \n",
      " Ocean    | 4            | 1,4,     | 7,9,          |  \n",
      " Lake     | 5            | 0,       | 8,            |  \n",
      "  \n",
      " mo_ext_data_init:init_ext_data: Start\n",
      " mo_ext_data_init::inquire_extpar_file: extpar_file = external_parameter_icon_europe044_DOM01_tiles.nc\n",
      " mo_ext_data_state:construct_ext_data: Construction of data structure for external data started\n",
      " \n",
      " adding new var_list ext_data_atm_D01\n",
      " \n",
      " adding new var_list ext_data_atm_td_D01\n",
      " mo_ext_data_state:construct_ext_data: Construction of data structure for external data finished\n",
      " mo_ext_data_init:init_ext_data: Start reading external data from file\n",
      " mo_read_netcdf_distributed::distrib_nf_open: external_parameter_icon_europe044_DOM01_tiles.nc\n",
      " mo_ext_data_init:init_ext_data: Finished reading external data\n",
      " number of topography smoothing steps in domain   1:   1\n",
      " parallel calculation of vgrid UUID. Generated UUID: \n",
      " b5b8c48f-3224-d42c-82d7-04220d752ac0\n",
      " mo_nonhydrostatic_config:configure_nonhydrostatic: Domain   1; computation of moist physics processes starts in layer    1\n",
      " mo_nonhydrostatic_config:configure_nonhydrostatic: Domain   1; high- and mid-level clouds in layers above   27  45\n",
      " Index list generation - number of land tiles:    3\n",
      " Total number of tiles:    6\n",
      " Number of land points in domain  1:      8617\n",
      " Number of sea points in domain  1:      7116\n",
      " Number of lake points in domain  1:       444\n",
      " Number of points in tile 1:      8617\n",
      " Number of points in tile 2:      5379\n",
      " Number of points in tile 3:      4567\n",
      " Number of corrected false glacier points in domain  1:         0\n",
      " mo_limarea_config::configure_latbc: Lateral boundary condition using interpolated boundary data.\n",
      " mo_atm_phy_nwp_config:configure_atm_phy_nwp: Use blending between GEMS and MACC ozone climatologies with tuning\n",
      " atm_phy_nwp:configure_ww: Domain   1; ih_500hPa, ihb500hPa, ih_700hPa, ih_850hPa, ih_950hPa, ihb950hPa   31  31  40  47  54  54\n",
      " atm_phy_nwp:configure_ww: Domain   1; ifog_temp, ifog_wind   50  55\n",
      " mo_nonhydro_state::construct_nh_state: Construction of NH state started\n",
      " \n",
      " adding new var_list nh_state_prog_of_domain_01_and_timelev_01\n",
      " \n",
      " adding new var_list nh_state_tracer_of_domain_01_and_timelev_01\n",
      " \n",
      " adding new var_list nh_state_prog_of_domain_01_and_timelev_02\n",
      " \n",
      " adding new var_list nh_state_tracer_of_domain_01_and_timelev_02\n",
      " \n",
      " adding new var_list nh_state_prog_of_domain_01_and_timelev_03\n",
      " \n",
      " adding new var_list nh_state_diag_of_domain_01\n",
      " \n",
      " adding new var_list nh_state_metrics_of_domain_01\n",
      " mo_nonhydro_state::construct_nh_state: NH state construction completed\n",
      " \n",
      " adding new var_list nh_state_opt_diag_of_domain_01\n",
      " \n",
      " adding new var_list nh_state_opt_diag_z_of_domain_01\n",
      " \n",
      " adding new var_list nh_state_opt_diag_p_of_domain_01\n",
      " \n",
      " adding new var_list nh_state_opt_diag_i_of_domain_01\n",
      " \n",
      " adding new var_list nh_accumulation_for_ProgAndDiag_of_domain_01\n",
      " \n",
      " adding new var_list prepadv_of_domain_01\n",
      " mo_prepadv_state:construct_prepadv_state: construction of prep_adv state finished\n",
      " mo_nwp_phy_state:construct_nwp_state: start to construct 3D state vector\n",
      " \n",
      " adding new var_list prm_diag_of_domain_01\n",
      " mo_nwp_phy_state:construct_nwp_phy_diag: construction of NWP physical fields finished\n",
      " \n",
      " adding new var_list prm_tend_of_domain_01\n",
      " mo_nwp_phy_state:construct_nwp_phy_tend: construction of NWP physical tendency fields finished\n",
      " \n",
      " adding new var_list prm_stch_of_domain_01\n",
      " mo_nwp_phy_state:construct_nwp_state: construction of state vector finished\n",
      " mo_nwp_lnd_state:construct_nwp_lnd_state: land state construction started\n",
      " \n",
      " adding new var_list lnd_prog_of_domain_01_and_timelev_01\n",
      " \n",
      " adding new var_list wtr_prog_of_domain_01_and_timelev_01\n",
      " \n",
      " adding new var_list lnd_prog_of_domain_01_and_timelev_02\n",
      " \n",
      " adding new var_list wtr_prog_of_domain_01_and_timelev_02\n",
      " \n",
      " adding new var_list lnd_diag_of_domain_01\n",
      " mo_nwp_lnd_state:construct_nwp_lnd_state: land state construction completed\n",
      "restart: reading restart data for patch 1\n",
      " reading from             1  files/patch.\n",
      " \n",
      " ----------------------------------------------\n",
      " \n",
      " construct_atmo_nonhydrostatic: normal exit from read_restart_files\n",
      " mo_async_latbc::init_prefetch: non-sparse LATBC read-in mode.\n",
      "\n",
      "================================================================================\n",
      "\n",
      "FATAL ERROR in mo_async_latbc_utils::reopen_latbc_file: LATBC file not found: /scratch/snx3000/ricoh/aiida/32/67/7e2b-4a10-48d4-9c1d-2fca595f82e7/outfiles/caf1979010100_lbc.nc\n",
      " FINISH called from PE: 0\n",
      "\n",
      "--------------------------------------------------------------------------------\n",
      "\n",
      "\n",
      "srun: error: nid04672: task 0: Segmentation fault (core dumped)\n",
      "srun: launch/slurm: _step_signal: Terminating StepId=48486102.0\n",
      "srun: error: nid04681: task 9: Terminated\n",
      "srun: error: nid04679: task 7: Terminated\n",
      "srun: error: nid04673: task 1: Terminated\n",
      "srun: error: nid04680: task 8: Terminated\n",
      "srun: error: nid04674: task 2: Terminated\n",
      "srun: error: nid04677: task 5: Terminated\n",
      "srun: error: nid04676: task 4: Terminated\n",
      "srun: error: nid04675: task 3: Terminated\n",
      "srun: error: nid04678: task 6: Terminated\n",
      "srun: Force Terminated StepId=48486102.0\n",
      "\n",
      "*** 1 LOG MESSAGES:\n",
      "+-> WARNING at 2023-08-22 11:54:09.966337+02:00\n",
      " | output parser returned exit code<300>: ICON did not create a restart file or directory!\u001b[0m\n"
     ]
    }
   ],
   "source": [
    "!verdi process report 3476"
   ]
  },
  {
   "cell_type": "markdown",
   "id": "e2708ef5-ab4a-4b0f-8eda-6ce52c1cdcd6",
   "metadata": {},
   "source": [
    "The `verdi` commandline has a generic `node show` command as well as different `show` commands for some types of nodes. Compare the output of above `process show` with the `code show` below."
   ]
  },
  {
   "cell_type": "code",
   "execution_count": 137,
   "id": "684638ab-28e7-4138-82fb-a550b6880891",
   "metadata": {},
   "outputs": [
    {
     "data": {
      "text/plain": [
       "1978"
      ]
     },
     "execution_count": 137,
     "metadata": {},
     "output_type": "execute_result"
    }
   ],
   "source": [
    "prep_code = orm.load_code(\"spice-prep-installed\")\n",
    "prep_code.pk"
   ]
  },
  {
   "cell_type": "code",
   "execution_count": 102,
   "id": "08de59f3-fe76-457a-b5d4-649b74b8e4af",
   "metadata": {},
   "outputs": [
    {
     "name": "stdout",
     "output_type": "stream",
     "text": []
    },
    {
     "name": "stdout",
     "output_type": "stream",
     "text": [
      "\u001b[22m-----------------------  ------------------------------------\n",
      "PK                       1978\n",
      "UUID                     579759a5-2a6b-4970-9bcd-366a7a50f993\n",
      "Type                     core.code.installed\n",
      "Computer                 Daint-mpirun (daint.cscs.ch), pk: 1\n",
      "Filepath executable      /users/ricoh/spicebin/prep.sh\n",
      "Label                    spice-prep-installed\n",
      "Description              Pre-Installed spice prep script.\n",
      "Default calc job plugin  c2sm.spice_prep\n",
      "Use double quotes        False\n",
      "With mpi\n",
      "Prepend text             module load daint-gpu\n",
      "                         module load gcc/9.3.0\n",
      "                         module load CDO/2.0.5-CrayGNU-21.09\n",
      "                         module load NCO/5.0.4-CrayGNU-21.09\n",
      "Append text\n",
      "-----------------------  ------------------------------------\u001b[0m\n"
     ]
    }
   ],
   "source": [
    "!verdi code show 1978"
   ]
  },
  {
   "cell_type": "code",
   "execution_count": null,
   "id": "02c1e3e7-ef45-4f4a-9040-463fff23c4aa",
   "metadata": {},
   "outputs": [],
   "source": []
  }
 ],
 "metadata": {
  "kernelspec": {
   "display_name": "Python 3 (ipykernel)",
   "language": "python",
   "name": "python3"
  },
  "language_info": {
   "codemirror_mode": {
    "name": "ipython",
    "version": 3
   },
   "file_extension": ".py",
   "mimetype": "text/x-python",
   "name": "python",
   "nbconvert_exporter": "python",
   "pygments_lexer": "ipython3",
   "version": "3.10.8"
  },
  "toc": {
   "base_numbering": 0
  }
 },
 "nbformat": 4,
 "nbformat_minor": 5
}
